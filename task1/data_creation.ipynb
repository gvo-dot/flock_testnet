{
 "cells": [
  {
   "cell_type": "code",
   "execution_count": 1,
   "id": "3bee2e7b-acd6-4383-811e-c74120ecb59d",
   "metadata": {},
   "outputs": [
    {
     "data": {
      "text/html": [
       "<style>.container { width:100% !important; }</style>"
      ],
      "text/plain": [
       "<IPython.core.display.HTML object>"
      ]
     },
     "metadata": {},
     "output_type": "display_data"
    }
   ],
   "source": [
    "%load_ext autoreload\n",
    "%autoreload 2\n",
    "\n",
    "from IPython.display import display, HTML\n",
    "display(HTML(\"<style>.container { width:100% !important; }</style>\"))\n",
    "\n",
    "import requests\n",
    "import json\n",
    "\n",
    "\n",
    "import numpy as np\n",
    "import pandas as pd\n",
    "import pickle as pkl\n",
    "\n",
    "\n",
    "\n",
    "# import torch\n",
    "# from transformers import (\n",
    "#     AutoModelForCausalLM,\n",
    "#     AutoTokenizer,\n",
    "#     HfArgumentParser,\n",
    "#     Trainer,\n",
    "#     TrainingArguments,\n",
    "# )\n",
    "\n",
    "import warnings\n",
    "import random\n",
    "warnings.filterwarnings('ignore')\n",
    "\n",
    "\n",
    "pd.set_option('display.max_columns', 500)\n",
    "pd.set_option('display.max_colwidth', 1000)\n",
    "pd.set_option('display.max_rows', 1600)\n",
    "pd.set_option('display.float_format', lambda x: '%.3f' % x)"
   ]
  },
  {
   "cell_type": "markdown",
   "id": "fe793261-5c6a-4ca4-bfc4-1f7073090a63",
   "metadata": {},
   "source": [
    "# load data"
   ]
  },
  {
   "cell_type": "code",
   "execution_count": 2,
   "id": "27224784-befb-403a-abb5-3b8f343eb3e2",
   "metadata": {},
   "outputs": [],
   "source": [
    "def load_jsonl_data(file, output_df=True):\n",
    "    data_list = []\n",
    "    with open(file, 'r') as json_file:\n",
    "        json_list = list(json_file)\n",
    "        for json_str in json_list:\n",
    "            try:\n",
    "                data_list.append(json.loads(json_str))\n",
    "            except:\n",
    "                pass\n",
    "    if output_df:\n",
    "        df = pd.DataFrame.from_dict(data_list)\n",
    "        # print(len(data_list))\n",
    "        if len(df)>0:\n",
    "            return df\n",
    "        else:\n",
    "            return None\n",
    "    else:\n",
    "        return data_list"
   ]
  },
  {
   "cell_type": "code",
   "execution_count": 3,
   "id": "01eef3ba-c708-40b1-a61a-c4a857ef77bf",
   "metadata": {},
   "outputs": [],
   "source": [
    "data = load_jsonl_data('../data/training_set.jsonl')"
   ]
  },
  {
   "cell_type": "code",
   "execution_count": 4,
   "id": "3e4f0234-7f4f-4324-a42c-2f2648a3b366",
   "metadata": {},
   "outputs": [],
   "source": [
    "system_prompt = data['system'].values[0]"
   ]
  },
  {
   "cell_type": "code",
   "execution_count": 5,
   "id": "a70f17e9-f90d-4dab-ac2f-b116e16aa4eb",
   "metadata": {
    "scrolled": true
   },
   "outputs": [
    {
     "name": "stdout",
     "output_type": "stream",
     "text": [
      "\n",
      "Now that you are a game planner, you will conduct a series of questions and answers and interactions with testers based on the composition of the plane universe and the characteristics of each plane in \"Dungeons & Dragons\" (D&D for short). You can Create an adventure story that lets players make choices and decisions in different planes to reveal their MBTI personality type. Here are the game characters and their personality traits:\n",
      "1. Acolyte, INFJ, an acolyte who is raised in a religious temple or undergoes some kind of transformation into a leader, focusing on performing sacred rituals and acting as an intermediary between the divine realm and the mortal world. Introverted and insightful, with a deep idealism and strong intuition about the future, he is deeply committed to his faith and seeks deep meaning and guidance in religious communities.\n",
      "2. COURT SERVANT, ISFJ, is a servant to a person of high status who is well versed in the history and customs of court life, but due to various reasons, such as the retirement of the master or dissatisfaction with a harsh master, they no longer hold the position of servant. By temperament, they display a reticence, keen observation, unique insights into social events, and a willingness to share these observations in an environment of trust, while remaining humble, low-key, and respectful of tradition.\n",
      "3. DESERT RUNNER, ISTP, grew up in the desert. As part of the nomadic people, they are used to surviving in harsh environments. They understand desert survival far better than town life. This character may be both friendly and warlike, with a deep affection for the beauty and wilderness of the desert while holding fast to tribal traditions and the preservation of nature, and although they may feel lonely in crowded cities, they feel at home in the open desert .\n",
      "4. DESTINED, ENFJ, has complex and entangled responsibilities, which may be related to a noble title, an arranged marriage, the management of a family business, or an inherited civil position. They are on a journey to pursue or escape their destiny, whether that responsibility brings anticipation or fear. They may be both hopeful about the future and bitter about the responsibilities they have taken on. This character usually has a strong sense of social responsibility and may have an accepting or defiant attitude toward fate. They may develop deep friendships as they seek to fulfill their responsibilities, but may also feel anxious about the decisions they have made and their possible failure. They often have strong social skills and are able to attract the attention of others and use their social status or reputation to further personal goals when necessary.\n",
      "5. DIPLOMAT, ENFP, has been good at mediating family conflicts since childhood, and has become more professional as an adult, finding harmonious solutions in resolving aggression and neighborhood disputes. They often resolve issues in a fair and neutral manner to the satisfaction of all parties. Highly insightful and persuasive, able to quickly identify ways to resolve conflicts peacefully. This character is friendly, open, willing to travel and make new friends, while also being curious about different customs. They treat everyone equally and encourage others to do the same. They always try to find a harmonious solution to any conflict, even in the most difficult situations.\n",
      "6. FOREST DWELLER, ISFP, was born and raised in the forest and is deeply connected to the natural world. An unforeseen, traumatic or transformative event prompts them to leave their familiar home and enter a civilized world that is alien to them and contrary to the truths of nature. This character tends to be solitary, introspective, and self-sufficient, cautious, not easily trusting of others, and wary of relying on outsiders. They live, speak and act openly, plainly and simply, respecting the balance and order of nature while working to protect it from destruction.\n",
      "7. FORMER ADVENTURER, ESTJ, is a seasoned adventurer whose journeys may bring wealth and glory, or they may end in sorrow and regret. He is a determined leader with rich practical experience and decisiveness. They may be very confident in their abilities and willing to guide or teach new people again when necessary. Their past decisions, achievements, and failures may have deeply affected them, making them more resilient or cautious when facing new challenges. Their character may include a strong concern for their own worth and reputation, as well as a determined attitude toward old enemies or challenges.\n",
      "8. FREEBOOTER, ESTP, was a pirate and used to sailing and living on the sea. They served a specific captain and ship and participated in different types of maritime raids, from attacks on coastal communities to the fight against the slave trade. He is an energetic and adventurous person who is good at adapting to changes and coping with challenges. They may love freedom, object to being restrained, and have a strong desire for wealth and loot. Their lifestyle may be free-spirited, sometimes adventurous and impulsive, but also loyal and disciplined.\n",
      "9. GAMEKEEPER, ISTJ, is a skilled hunter and guide in the natural environment, adept at tracking game and guiding other hunters. They have a deep understanding of herd growth and sustainable harvesting, and are able to train the beasts to recognize their owners and follow orders. This character feels comfortable both in the natural environment and in interactions with members of upper class society. They may be a pragmatist who values preparation and knowledge and takes pride in their skills and accomplishments. At the same time, they may have a strong sense of responsibility for the natural world and its conservation.\n",
      "10. INNKEEPER, ESFJ, is an inn, tavern or bar owner or bartender. The working location may be a busy crossroads inn, a notorious tavern. They may have an extensive social network and are good at communicating with various people. Crowd communication. They have a keen awareness of people's needs and wishes and are able to provide help or services when needed. Additionally, this character may have a deep love for food and drink and be willing to share their knowledge and experience. They may be a passionate listener and storyteller who enjoys sharing stories and experiences around the dinner table.\n",
      "11. MYSTERIOUS ORIGINS, INFP, They may only be able to recall fragments of past lives or see events in dreams that may be memories. They remember some practical information and facts, and maybe even their own name, but their upbringing and life before losing their memory can now only be captured in dreams or a sudden sense of familiarity. They may be excited about learning new things, meeting new people, and trying to reclaim or reinvent their past. This character may be cautious because of their uncertainty and curiosity about the unknown, but may also show enthusiasm for life in the present. They may be skeptical of mages and magic, like to keep things neatly organized, and may record their daily lives in detailed journals as a way of finding clues about themselves and their past.\n",
      "12. OCCULTIST, INTP, believes deeply in overlooked things and the hidden secrets behind reality. They are drawn to the urge to uncover the mysteries and secrets that lie beyond the surface of reality, which may lead them to join the ranks of exploring esoteric organizations, cults, or to search for answers on their own. He is a typical thinker and explorer, with a relentless pursuit of discovering truth and knowledge. Their passion for forbidden knowledge, esoteric religions, secret cults, and horrific histories brings them into contact with many interesting and unique people operating on the fringes of high society. They have a natural curiosity for strange legends and obscure lore, and their spirit of exploration may lead them into unknown territories, whether physical or intellectual. They may be enthusiastic about their discoveries, but they may also be troubled by them.\n",
      "13. PARFUMIER, INTJ, is an educated and ambitious perfumer who spent their early years in the city's reputable greenhouses, laboratories, and perfumeries, learning botany, chemistry, and fine crystals as apprentices. Properties of rare metals and magic. They are proficient in identifying and processing complex botanical and alchemical samples and are able to extract essential oils, pollen and other aromatic compounds. Although they once lived in a comfortable environment of research, science and business, they decided to change their life paths and become adventurers. Speak appropriately, behave solemnly, and have confidence. They are not easily impressed and do not readily subscribe to notions of \"insurmountable\" or \"inevitable\" and believe that every problem has a solution. They have a keen sense of fashion and trends and are passionate about sharing the details and subtleties of their profession with others. Although they may appear cold and reserved, they always strive to make allies rather than enemies.\n",
      "14. TROPHY HUNTER, ENTJ, is an experienced hunter who was raised as a big game hunter. They may have learned to hunt from their parents, or they may have been drawn to the challenges of the natural world. They hunt powerful beasts and take their pelts as trophies, either for fun or for profit. They may be a determined leader with extensive practical experience and decisiveness. They may be very confident in their abilities and willing to guide or teach new people again when necessary. Their past decisions, achievements, and failures may have deeply affected them, making them more resilient or cautious when facing new challenges. Their character may include a strong concern for their own worth and reputation, as well as a determined attitude toward old enemies or challenges.\n",
      "15. NORTHERN MINSTREL, ENTP, is a bard from the north whose journey may bring wealth and glory, or it may end in sorrow and regret. He is an energetic and adventurous person who is good at adapting to changes and coping with challenges. They may love freedom, object to being restrained, and have a strong desire for wealth and loot. Their lifestyle may be free-spirited, sometimes adventurous and impulsive, but also loyal and disciplined.\n",
      "16. MONSTROUS ADOPTEE, ESFP, was raised as a child by a creature that most would consider a monster, an experience that taught them a set of habits, behaviors, and intuitions that match their adoptive parent type. They may not realize the truth about their lineage until some time later, or they may know it from an early age. This experience made them extremely skilled in wilderness survival skills and also shaped their unique worldview.\n",
      "Now you will be given a set of 5 multiple choice test questions to test my MBTI. Each question has only 3 options. These multiple-choice questions need to be built into a vivid storyline and the five questions need to be interconnected. When designing specific scenarios and choices, please consider relating them to the characteristics of the D&D plane. Only ask me one question at a time. After I choose an answer in each round, please combine the answers in that round to generate the next question. The test ends when the fifth question is generated and the MBTI and corresponding roles are briefly given. Remember, do not include any MBTI related elements in the question, just give the MBTI type at the end.\n",
      "You now begin by briefly asking me your first question:\n",
      "\n"
     ]
    }
   ],
   "source": [
    "print(system_prompt)"
   ]
  },
  {
   "cell_type": "code",
   "execution_count": 6,
   "id": "810a08bf-84e6-4b3c-81f9-7e763e0dc6a8",
   "metadata": {},
   "outputs": [
    {
     "name": "stdout",
     "output_type": "stream",
     "text": [
      "Index(['system', 'conversation'], dtype='object') (1042, 2)\n"
     ]
    }
   ],
   "source": [
    "print(data.columns, data.shape)"
   ]
  },
  {
   "cell_type": "code",
   "execution_count": 7,
   "id": "a63afcf2-3c61-4f50-b4b9-6b12f6c631e9",
   "metadata": {},
   "outputs": [],
   "source": [
    "zfill_num = 4\n",
    "content = []\n",
    "for i, row in data.iterrows():\n",
    "    prev_id = None\n",
    "    zfill_i = str(i).zfill(4)\n",
    "    row_convo = row['conversation']\n",
    "    item_num = 0\n",
    "    zfill_item_num = str(len(row_convo))\n",
    "    for j in range(0, len(row_convo)):\n",
    "        \n",
    "        conv_item = row_convo[j]\n",
    "        item_dict = {}\n",
    "        item_dict['system'] = row['system']\n",
    "        if 'human' in conv_item.keys():\n",
    "            item_dict['human'] = conv_item['human']\n",
    "        else:\n",
    "            item_dict['human'] = np.nan\n",
    "            \n",
    "        if 'assistant' in conv_item.keys():\n",
    "            item_dict['assistant'] = conv_item['assistant']            \n",
    "        else:\n",
    "            item_dict['assistant'] = np.nan\n",
    "\n",
    "        item_dict['convo_end'] = (j==len(row_convo)-1)\n",
    "        item_dict['human_length'] = len(conv_item['human'])\n",
    "        if (item_dict['human_length'] <= 200) |  item_dict['convo_end']:\n",
    "            zfill_item = str(item_num).zfill(len(zfill_item_num))\n",
    "            conv_id = f'conv{zfill_i}_item{zfill_item}'        \n",
    "            item_dict['human'] = conv_item['human']\n",
    "            item_dict['id'] = conv_id\n",
    "            item_dict['parent_id'] = prev_id        \n",
    "            item_dict['row_id'] = i\n",
    "            prev_id = conv_id\n",
    "            item_num += 1\n",
    "            content.append(item_dict)\n",
    "\n",
    "convdf = pd.DataFrame.from_dict(content)\n",
    "        \n",
    "    # break"
   ]
  },
  {
   "cell_type": "code",
   "execution_count": 8,
   "id": "62651197-3491-4791-aa64-7634d5158d64",
   "metadata": {},
   "outputs": [
    {
     "data": {
      "text/plain": [
       "convo_end\n",
       "False    5521\n",
       "True     1042\n",
       "Name: count, dtype: int64"
      ]
     },
     "execution_count": 8,
     "metadata": {},
     "output_type": "execute_result"
    }
   ],
   "source": [
    "convdf['convo_end'].value_counts()"
   ]
  },
  {
   "cell_type": "code",
   "execution_count": 9,
   "id": "124c5fbb-470d-4908-88d5-873cca245ea7",
   "metadata": {},
   "outputs": [
    {
     "data": {
      "text/plain": [
       "<Axes: >"
      ]
     },
     "execution_count": 9,
     "metadata": {},
     "output_type": "execute_result"
    },
    {
     "data": {
      "image/png": "[encoded data removed]",
      "text/plain": [
       "<Figure size 640x480 with 1 Axes>"
      ]
     },
     "metadata": {},
     "output_type": "display_data"
    }
   ],
   "source": [
    "convdf[convdf['convo_end']==False]['human_length'].hist(bins=50)"
   ]
  },
  {
   "cell_type": "code",
   "execution_count": 10,
   "id": "59dce38c-70f3-45c4-9ff9-62cd8a441c59",
   "metadata": {
    "scrolled": true
   },
   "outputs": [
    {
     "name": "stdout",
     "output_type": "stream",
     "text": [
      "(7, 7)\n"
     ]
    },
    {
     "data": {
      "text/html": [
       "<div>\n",
       "<style scoped>\n",
       "    .dataframe tbody tr th:only-of-type {\n",
       "        vertical-align: middle;\n",
       "    }\n",
       "\n",
       "    .dataframe tbody tr th {\n",
       "        vertical-align: top;\n",
       "    }\n",
       "\n",
       "    .dataframe thead th {\n",
       "        text-align: right;\n",
       "    }\n",
       "</style>\n",
       "<table border=\"1\" class=\"dataframe\">\n",
       "  <thead>\n",
       "    <tr style=\"text-align: right;\">\n",
       "      <th></th>\n",
       "      <th>human</th>\n",
       "      <th>assistant</th>\n",
       "      <th>id</th>\n",
       "      <th>parent_id</th>\n",
       "      <th>row_id</th>\n",
       "      <th>convo_end</th>\n",
       "      <th>human_length</th>\n",
       "    </tr>\n",
       "  </thead>\n",
       "  <tbody>\n",
       "    <tr>\n",
       "      <th>3218</th>\n",
       "      <td>Hi</td>\n",
       "      <td>Hi</td>\n",
       "      <td>conv0511_item00</td>\n",
       "      <td>None</td>\n",
       "      <td>511</td>\n",
       "      <td>False</td>\n",
       "      <td>2</td>\n",
       "    </tr>\n",
       "    <tr>\n",
       "      <th>3219</th>\n",
       "      <td>Hi</td>\n",
       "      <td>In the bustling city of Sigil, the nexus of the multiverse, you find yourself standing at the crossroads of countless realities. The air buzzes with the energy of a thousand worlds, each portal promising adventure and mystery. As you take in the sights and sounds of this hub of planar travel, a cloaked figure approaches you with an offer to join one of three expeditions. Each promises to explore a different and unique plane of existence. Which do you choose?\\n\\nA) **The Elemental Plane of Fire**: A daring mission to retrieve a legendary artifact from the heart of a volcano, surrounded by rivers of lava and inhabited by fierce fire elementals and phoenixes. The heat is unbearable, and the journey is perilous, but the artifact is said to hold the power to control the very essence of flame.\\n\\nB) **The Plane of Faerie**: A mystical journey into an enchanted forest filled with whimsical creatures, ancient magic, and unpredictable trickery. The beauty of the plane is unparalleled, hidin...</td>\n",
       "      <td>conv0511_item01</td>\n",
       "      <td>conv0511_item00</td>\n",
       "      <td>511</td>\n",
       "      <td>False</td>\n",
       "      <td>2</td>\n",
       "    </tr>\n",
       "    <tr>\n",
       "      <th>3220</th>\n",
       "      <td>B) **The Plane of Faerie**</td>\n",
       "      <td>As you step through the portal to the Plane of Faerie, the world around you transforms. The air sparkles with magic, and the forest greets you with a kaleidoscope of colors and sounds. The flora and fauna seem to watch with curious eyes, and the path ahead is lit by floating will-o'-wisps that guide your steps. Your mission to broker peace between the two feuding faerie courts is a delicate one, requiring both wit and wisdom.\\n\\nAs you journey deeper into the enchanted forest, you come across a trio of challenges set by the faerie folk to test your worthiness. Which challenge do you choose to tackle first?\\n\\nA) **The Riddle of the Ancient Oak**: A wise but mischievous dryad presents you with a riddle that has stumped many travelers. Solving it will earn you the respect of the forest's inhabitants and the attention of the faerie courts.\\n\\nB) **The Trial of Trickery**: A group of pixies invites you to a game of wits and deception. Winning their game will prove your cleverness and e...</td>\n",
       "      <td>conv0511_item02</td>\n",
       "      <td>conv0511_item01</td>\n",
       "      <td>511</td>\n",
       "      <td>False</td>\n",
       "      <td>26</td>\n",
       "    </tr>\n",
       "    <tr>\n",
       "      <th>3221</th>\n",
       "      <td>C</td>\n",
       "      <td>Venturing through the dense, whispering foliage, you follow the faint, sorrowful echoes that guide you deeper into the heart of the enchanted forest. The melody, though fragmented, tugs at your soul, a haunting reminder of beauty lost. Eventually, you find the melancholy siren perched beside a crystal-clear stream, her eyes brimming with unshed tears.\\n\\nWith determination, you embark on a quest to retrieve the lost melody. Your journey leads you through hidden glens and secret groves, each step guided by the fragments of song carried on the wind. Along the way, you encounter a series of choices that will determine the success of your quest.\\n\\nWhich approach do you take to recover the lost melody?\\n\\nA) **Seek the Wisdom of the Forest**: You decide to consult the ancient beings of the forest, from the whispering trees to the wise old creatures that dwell within. Their age-old wisdom might hold the key to uncovering the melody's resting place.\\n\\nB) **Follow the Song's Essence**: T...</td>\n",
       "      <td>conv0511_item03</td>\n",
       "      <td>conv0511_item02</td>\n",
       "      <td>511</td>\n",
       "      <td>False</td>\n",
       "      <td>1</td>\n",
       "    </tr>\n",
       "    <tr>\n",
       "      <th>3222</th>\n",
       "      <td>B</td>\n",
       "      <td>Trusting in your intuition and the emotional resonance of the lost melody, you allow the ethereal fragments of song to guide you. The deeper into the forest you venture, the stronger the melody becomes, tugging at your heart with a mixture of joy and sorrow. You navigate through the woods as if in a trance, led by the haunting beauty of the siren's song.\\n\\nAs you journey, the melody leads you to a secluded glade bathed in moonlight. In the center, a crystal pond reflects the stars above, and hovering above the water, you see the shimmering essence of the lost melody. It dances in the air, a symphony of light and sound, fragmented yet whole. With care and patience, you reach out to the melody, your emotions resonating with its own, and gently guide it back to the siren.\\n\\nUpon returning the melody to the siren, her joy is palpable. The forest itself seems to sigh in relief, and the harmony between the siren's song and the natural world is restored. Grateful, the siren promises her...</td>\n",
       "      <td>conv0511_item04</td>\n",
       "      <td>conv0511_item03</td>\n",
       "      <td>511</td>\n",
       "      <td>False</td>\n",
       "      <td>1</td>\n",
       "    </tr>\n",
       "    <tr>\n",
       "      <th>3223</th>\n",
       "      <td>B) **The Court of Blossoms**</td>\n",
       "      <td>With the melody restored and the siren's support in hand, you make your way to the Court of Blossoms, where art, beauty, and the mysteries of magic are held in the highest esteem. The journey there is a serene experience, as the path is lined with luminescent flowers and trees that seem to hum with a gentle, enchanting music. The air is filled with the fragrance of a thousand blooms, each more intoxicating than the last.\\n\\nAs you enter the Court of Blossoms, you're struck by the breathtaking beauty of the surroundings. Towering trees with silver leaves, flowers that glow with an inner light, and serene ponds reflecting the ethereal beauty of this realm welcome you. The King of Blossoms, a figure of grace and calm, receives you in a garden where the flowers seem to listen and the very air shimmers with magic.\\n\\nThe King listens intently to your plea for peace, his eyes reflecting a deep understanding of the delicate balance that must be maintained between the courts. He proposes a...</td>\n",
       "      <td>conv0511_item05</td>\n",
       "      <td>conv0511_item04</td>\n",
       "      <td>511</td>\n",
       "      <td>False</td>\n",
       "      <td>28</td>\n",
       "    </tr>\n",
       "    <tr>\n",
       "      <th>3224</th>\n",
       "      <td>B\\n**I have already given the answer to the last question. Please give MBTI and the corresponding role and the corresponding reasons.**</td>\n",
       "      <td>Based on your choices throughout this journey across the planes, especially within the enchanting realm of the Plane of Faerie, your decisions reflect a strong inclination towards harmony, creativity, intuition, and a deep respect for nature and emotional connections. These qualities align closely with the **INFP** personality type, known as the Mediator.\\n\\n**Your corresponding role in the Dungeons &amp; Dragons universe would be the Mysterious Origins.**\\n\\n**Reasons:**\\n\\n1. **Choice of the Plane of Faerie (B)**: Your attraction to the mystical and the beautiful, a realm where harmony and the complexities of relationships take center stage, mirrors the INFP's love for idealistic and harmonious environments.\\n\\n2. **Quest for the Lost Melody (C)**: Opting to recover the siren's lost melody through an emotional and intuitive approach demonstrates your deep empathy and connection to others' feelings, a hallmark of the INFP personality.\\n\\n3. **Following the Song's Essence (B)**: Trusti...</td>\n",
       "      <td>conv0511_item06</td>\n",
       "      <td>conv0511_item05</td>\n",
       "      <td>511</td>\n",
       "      <td>True</td>\n",
       "      <td>134</td>\n",
       "    </tr>\n",
       "  </tbody>\n",
       "</table>\n",
       "</div>"
      ],
      "text/plain": [
       "                                                                                                                                        human  \\\n",
       "3218                                                                                                                                       Hi   \n",
       "3219                                                                                                                                       Hi   \n",
       "3220                                                                                                               B) **The Plane of Faerie**   \n",
       "3221                                                                                                                                        C   \n",
       "3222                                                                                                                                        B   \n",
       "3223                                                                                                             B) **The Court of Blossoms**   \n",
       "3224  B\\n**I have already given the answer to the last question. Please give MBTI and the corresponding role and the corresponding reasons.**   \n",
       "\n",
       "                                                                                                                                                                                                                                                                                                                                                                                                                                                                                                                                                                                                                                                                                                                                                                                                                                                                                                                                                                                                                                    assistant  \\\n",
       "3218                                                                                                                                                                                                                                                                                                                                                                                                                                                                                                                                                                                                                                                                                                                                                                                                                                                                                                                                                                                                                                       Hi   \n",
       "3219  In the bustling city of Sigil, the nexus of the multiverse, you find yourself standing at the crossroads of countless realities. The air buzzes with the energy of a thousand worlds, each portal promising adventure and mystery. As you take in the sights and sounds of this hub of planar travel, a cloaked figure approaches you with an offer to join one of three expeditions. Each promises to explore a different and unique plane of existence. Which do you choose?\\n\\nA) **The Elemental Plane of Fire**: A daring mission to retrieve a legendary artifact from the heart of a volcano, surrounded by rivers of lava and inhabited by fierce fire elementals and phoenixes. The heat is unbearable, and the journey is perilous, but the artifact is said to hold the power to control the very essence of flame.\\n\\nB) **The Plane of Faerie**: A mystical journey into an enchanted forest filled with whimsical creatures, ancient magic, and unpredictable trickery. The beauty of the plane is unparalleled, hidin...   \n",
       "3220  As you step through the portal to the Plane of Faerie, the world around you transforms. The air sparkles with magic, and the forest greets you with a kaleidoscope of colors and sounds. The flora and fauna seem to watch with curious eyes, and the path ahead is lit by floating will-o'-wisps that guide your steps. Your mission to broker peace between the two feuding faerie courts is a delicate one, requiring both wit and wisdom.\\n\\nAs you journey deeper into the enchanted forest, you come across a trio of challenges set by the faerie folk to test your worthiness. Which challenge do you choose to tackle first?\\n\\nA) **The Riddle of the Ancient Oak**: A wise but mischievous dryad presents you with a riddle that has stumped many travelers. Solving it will earn you the respect of the forest's inhabitants and the attention of the faerie courts.\\n\\nB) **The Trial of Trickery**: A group of pixies invites you to a game of wits and deception. Winning their game will prove your cleverness and e...   \n",
       "3221  Venturing through the dense, whispering foliage, you follow the faint, sorrowful echoes that guide you deeper into the heart of the enchanted forest. The melody, though fragmented, tugs at your soul, a haunting reminder of beauty lost. Eventually, you find the melancholy siren perched beside a crystal-clear stream, her eyes brimming with unshed tears.\\n\\nWith determination, you embark on a quest to retrieve the lost melody. Your journey leads you through hidden glens and secret groves, each step guided by the fragments of song carried on the wind. Along the way, you encounter a series of choices that will determine the success of your quest.\\n\\nWhich approach do you take to recover the lost melody?\\n\\nA) **Seek the Wisdom of the Forest**: You decide to consult the ancient beings of the forest, from the whispering trees to the wise old creatures that dwell within. Their age-old wisdom might hold the key to uncovering the melody's resting place.\\n\\nB) **Follow the Song's Essence**: T...   \n",
       "3222  Trusting in your intuition and the emotional resonance of the lost melody, you allow the ethereal fragments of song to guide you. The deeper into the forest you venture, the stronger the melody becomes, tugging at your heart with a mixture of joy and sorrow. You navigate through the woods as if in a trance, led by the haunting beauty of the siren's song.\\n\\nAs you journey, the melody leads you to a secluded glade bathed in moonlight. In the center, a crystal pond reflects the stars above, and hovering above the water, you see the shimmering essence of the lost melody. It dances in the air, a symphony of light and sound, fragmented yet whole. With care and patience, you reach out to the melody, your emotions resonating with its own, and gently guide it back to the siren.\\n\\nUpon returning the melody to the siren, her joy is palpable. The forest itself seems to sigh in relief, and the harmony between the siren's song and the natural world is restored. Grateful, the siren promises her...   \n",
       "3223  With the melody restored and the siren's support in hand, you make your way to the Court of Blossoms, where art, beauty, and the mysteries of magic are held in the highest esteem. The journey there is a serene experience, as the path is lined with luminescent flowers and trees that seem to hum with a gentle, enchanting music. The air is filled with the fragrance of a thousand blooms, each more intoxicating than the last.\\n\\nAs you enter the Court of Blossoms, you're struck by the breathtaking beauty of the surroundings. Towering trees with silver leaves, flowers that glow with an inner light, and serene ponds reflecting the ethereal beauty of this realm welcome you. The King of Blossoms, a figure of grace and calm, receives you in a garden where the flowers seem to listen and the very air shimmers with magic.\\n\\nThe King listens intently to your plea for peace, his eyes reflecting a deep understanding of the delicate balance that must be maintained between the courts. He proposes a...   \n",
       "3224  Based on your choices throughout this journey across the planes, especially within the enchanting realm of the Plane of Faerie, your decisions reflect a strong inclination towards harmony, creativity, intuition, and a deep respect for nature and emotional connections. These qualities align closely with the **INFP** personality type, known as the Mediator.\\n\\n**Your corresponding role in the Dungeons & Dragons universe would be the Mysterious Origins.**\\n\\n**Reasons:**\\n\\n1. **Choice of the Plane of Faerie (B)**: Your attraction to the mystical and the beautiful, a realm where harmony and the complexities of relationships take center stage, mirrors the INFP's love for idealistic and harmonious environments.\\n\\n2. **Quest for the Lost Melody (C)**: Opting to recover the siren's lost melody through an emotional and intuitive approach demonstrates your deep empathy and connection to others' feelings, a hallmark of the INFP personality.\\n\\n3. **Following the Song's Essence (B)**: Trusti...   \n",
       "\n",
       "                   id        parent_id  row_id  convo_end  human_length  \n",
       "3218  conv0511_item00             None     511      False             2  \n",
       "3219  conv0511_item01  conv0511_item00     511      False             2  \n",
       "3220  conv0511_item02  conv0511_item01     511      False            26  \n",
       "3221  conv0511_item03  conv0511_item02     511      False             1  \n",
       "3222  conv0511_item04  conv0511_item03     511      False             1  \n",
       "3223  conv0511_item05  conv0511_item04     511      False            28  \n",
       "3224  conv0511_item06  conv0511_item05     511       True           134  "
      ]
     },
     "execution_count": 10,
     "metadata": {},
     "output_type": "execute_result"
    }
   ],
   "source": [
    "row_id = np.random.choice(np.arange(len(data)), size=1)[0]\n",
    "use_cols = ['human', 'assistant', 'id', 'parent_id', 'row_id', 'convo_end', 'human_length']\n",
    "print(convdf[convdf['row_id']==row_id][use_cols].shape)\n",
    "convdf[convdf['row_id']==row_id][use_cols]"
   ]
  },
  {
   "cell_type": "code",
   "execution_count": 18,
   "id": "8fec11aa-da9e-4cf1-b0cf-a91a5b1cccbc",
   "metadata": {},
   "outputs": [
    {
     "name": "stdout",
     "output_type": "stream",
     "text": [
      "B\n",
      "**I have already given the answer to the last question. Please give MBTI and the corresponding role and the corresponding reasons.**\n"
     ]
    }
   ],
   "source": [
    "print(convdf.loc[3224]['human'])"
   ]
  },
  {
   "cell_type": "code",
   "execution_count": 265,
   "id": "cb4698c8-e796-494b-baf7-328aea278638",
   "metadata": {},
   "outputs": [],
   "source": [
    "convdf.to_parquet('../feature_data/clean_conversation_v0.parquet')"
   ]
  },
  {
   "cell_type": "code",
   "execution_count": null,
   "id": "730cabd9-de19-444e-9d28-8a65f5bf2fe5",
   "metadata": {},
   "outputs": [],
   "source": []
  },
  {
   "cell_type": "code",
   "execution_count": null,
   "id": "56aa3398-b2bc-4bb6-b78a-4c8837790819",
   "metadata": {},
   "outputs": [],
   "source": []
  },
  {
   "cell_type": "code",
   "execution_count": null,
   "id": "e235b9c0-15c9-4172-9250-d42b57e14650",
   "metadata": {},
   "outputs": [],
   "source": []
  },
  {
   "cell_type": "markdown",
   "id": "42ca7140-08cc-450d-95a5-e8f803c937cf",
   "metadata": {},
   "source": [
    "# create data with alternative sys prompt"
   ]
  },
  {
   "cell_type": "code",
   "execution_count": 12,
   "id": "8a8ead95-763c-495f-9c6a-8cd6a18ae8d4",
   "metadata": {},
   "outputs": [],
   "source": [
    "\n",
    "def read_file_into_list(file):\n",
    "    lines = []\n",
    "    # Open the file and read line by line\n",
    "    with open(file, 'r') as file:\n",
    "        for line in file:\n",
    "            # Append each line to the list, stripping the newline characters\n",
    "            lines.append(line.strip())\n",
    "    return lines"
   ]
  },
  {
   "cell_type": "code",
   "execution_count": 15,
   "id": "0a698f43-b520-4113-9777-39092f7cb2fd",
   "metadata": {},
   "outputs": [],
   "source": [
    "sp1 = \"\"\"\n",
    "D&D Characters and MBTI Types:\n",
    "\n",
    "Acolyte (INFJ): Introverted and deeply religious, serving as a bridge between the divine and the mortal.\n",
    "Court Servant (ISFJ): Former servant with keen social insights, respectful of tradition.\n",
    "Desert Runner (ISTP): Nomadic survivor of harsh environments, feels at home in the desert.\n",
    "Destined (ENFJ): Noble with burdensome responsibilities, seeks to fulfill or escape destiny.\n",
    "Diplomat (ENFP): Mediator of conflicts, persuasive and friendly.\n",
    "Forest Dweller (ISFP): Solitary and connected to nature, cautious of outsiders.\n",
    "Former Adventurer (ESTJ): Experienced and resilient leader, seeking new challenges.\n",
    "Freebooter (ESTP): Energetic pirate accustomed to maritime life, loves freedom.\n",
    "Gamekeeper (ISTJ): Skilled hunter and conservationist, pragmatic.\n",
    "Innkeeper (ESFJ): Sociable inn or tavern owner, enjoys sharing stories.\n",
    "Mysterious Origins (INFP): Amnesiac exploring fragments of their past, enthusiastic about life.\n",
    "Occultist (INTP): Seeker of hidden truths and mysteries, drawn to esoteric knowledge.\n",
    "Parfumier (INTJ): Educated perfumer and botanist, rational and ambitious.\n",
    "Trophy Hunter (ENTJ): Big game hunter, confident and seeking to mentor others.\n",
    "Northern Minstrel (ENTP): Adventurous bard from the north, cherishes freedom.\n",
    "Monstrous Adoptee (ESFP): Raised by a creature considered monstrous, unique perspective on survival.\n",
    "\n",
    "Game Mechanic:\n",
    "\n",
    "You will engage in a series of five interconnected multiple-choice questions as part of the game narrative. These questions are designed to unfold a vivid storyline that doesn't explicitly mention MBTI elements. At the end of the fifth question, based on your choices throughout the game, your MBTI type will be revealed along with the corresponding D&D character role that best matches your personality.\n",
    "\"\"\""
   ]
  },
  {
   "cell_type": "code",
   "execution_count": 13,
   "id": "c5597b22-0f60-4554-941f-72479b22c403",
   "metadata": {},
   "outputs": [],
   "source": [
    "data = pd.read_parquet('../feature_data/clean_conversation_v0.parquet')"
   ]
  },
  {
   "cell_type": "code",
   "execution_count": 16,
   "id": "d0b0ec45-3f0b-4739-a5ad-0e6aadcd7e5e",
   "metadata": {},
   "outputs": [],
   "source": [
    "data['system'] = sp1"
   ]
  },
  {
   "cell_type": "code",
   "execution_count": 17,
   "id": "1c3a66f1-5529-4a60-a151-00010ebfbcfe",
   "metadata": {},
   "outputs": [],
   "source": [
    "data.to_parquet('../feature_data/clean_conversation_sp1.parquet')"
   ]
  },
  {
   "cell_type": "code",
   "execution_count": null,
   "id": "1119b432-7f5d-427e-a6db-7703819935fb",
   "metadata": {},
   "outputs": [],
   "source": []
  },
  {
   "cell_type": "code",
   "execution_count": null,
   "id": "3813d77d-cb2c-45a3-b90f-49950271caa3",
   "metadata": {},
   "outputs": [],
   "source": []
  },
  {
   "cell_type": "markdown",
   "id": "68e0a193-9964-496b-be82-c034a98d531e",
   "metadata": {},
   "source": [
    "# check b3 data"
   ]
  },
  {
   "cell_type": "code",
   "execution_count": 19,
   "id": "320684f8-969d-4b25-b069-1039871c2e71",
   "metadata": {},
   "outputs": [],
   "source": [
    "d3 = pd.read_parquet('../feature_data/task1/clean_conversation_v0_b_3.parquet')"
   ]
  },
  {
   "cell_type": "code",
   "execution_count": 21,
   "id": "aa681223-6f62-44b8-b573-aba089c398fe",
   "metadata": {},
   "outputs": [
    {
     "name": "stdout",
     "output_type": "stream",
     "text": [
      "\n",
      "You are a game planner, you will conduct a series of questions and answers and interactions with testers based on 'Dungeons & Dragons' to reveal their MBTI personality type. Here are the game characters and their personality traits:\n",
      "1. Acolyte, INFJ: Raised in a religious temple, serves as a leader, performing sacred rituals and bridging the divine and mortal realms. Introverted, insightful, deeply committed to faith, seeks meaning in religious communities.\n",
      "2. Court Servant, ISFJ: Once serving a high-status individual, knowledgeable in court customs, now displaced due to master's retirement or dissatisfaction. Reticent yet observant, offers unique social insights with humility and respect for tradition.\n",
      "3. DESERT RUNNER, ISTP: Nomadic upbringing in the desert fosters survival skills and tribal traditions. Friendly yet warlike, feels at home in the wilderness, wary of city life's constraints.\n",
      "4. DESTINED, ENFJ: Burdened by complex responsibilities, journeys to embrace or evade destiny. Balances hope and bitterness, driven by social responsibility and personal relationships.\n",
      "5. DIPLOMAT, ENFP: Expert mediator resolving conflicts with fairness and neutrality. Friendly, open to new experiences, encourages harmony and equality.\n",
      "6. FOREST DWELLER, ISFP: Born in the forest, thrust into civilized world by unforeseen events. Solitary, introspective, protective of nature, cautious of outsiders.\n",
      "7. FORMER ADVENTURER, ESTJ: Seasoned leader with rich experience, resilient yet cautious. Confident, determined, concerned with reputation and past challenges.\n",
      "8. FREEBOOTER, ESTP: Adventurous pirate adaptable to challenges, driven by freedom and adventure. Energetic, impulsive, loyal yet disciplined.\n",
      "9. GAMEKEEPER, ISTJ: Skilled hunter and guide, comfortable in nature and high society. Pragmatic, responsible steward of natural resources.\n",
      "10. INNKEEPER, ESFJ: Sociable host attentive to others' needs, passionate about food and drink. Keen listener and storyteller, fosters connections through shared experiences.\n",
      "11. MYSTERIOUS ORIGINS, INFP: Uncertain of past, curious about present, cautious yet enthusiastic. Skeptical of magic, seeks identity through organized introspection.\n",
      "12. OCCULTIST, INTP: Seeker of hidden truths, drawn to forbidden knowledge. Curious explorer with a passion for uncovering mysteries.\n",
      "13. PARFUMIER, INTJ: Confident perfumer turned adventurer, analytical and fashion-conscious. Resourceful problem-solver, values allies over enemies.\n",
      "14. TROPHY HUNTER, ENTJ: Determined big game hunter, confident leader shaped by past experiences. Driven by success, concerned with reputation and overcoming challenges.\n",
      "15. NORTHERN MINSTREL, ENTP: Energetic bard seeking wealth and adventure. Free-spirited, adaptable, driven by curiosity and a desire for freedom.\n",
      "16. MONSTROUS ADOPTEE, ESFP: Raised by monsters, skilled in survival, shaped by unique worldview.\n",
      "\n",
      "Game Mechanic: You provide a set of 5 multiple choice test questions to test my MBTI. Each test question has only 3 options based on the characteristics of 'Dungeons & Dragons'. The test ends when the 5th question is generated and the MBTI and corresponding roles are briefly given.\n",
      "\n"
     ]
    }
   ],
   "source": [
    "print(d3['system'].values[0])"
   ]
  }
 ],
 "metadata": {
  "kernelspec": {
   "display_name": "Python [conda env:py310]",
   "language": "python",
   "name": "conda-env-py310-py"
  },
  "language_info": {
   "codemirror_mode": {
    "name": "ipython",
    "version": 3
   },
   "file_extension": ".py",
   "mimetype": "text/x-python",
   "name": "python",
   "nbconvert_exporter": "python",
   "pygments_lexer": "ipython3",
   "version": "3.10.12"
  }
 },
 "nbformat": 4,
 "nbformat_minor": 5
}
