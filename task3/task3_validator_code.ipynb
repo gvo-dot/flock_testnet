{
 "cells": [
  {
   "cell_type": "code",
   "execution_count": null,
   "id": "09bc4378-494c-4788-b711-00dd48a69e81",
   "metadata": {},
   "outputs": [],
   "source": [
    "git clone https://github.com/FLock-io/llm-loss-validator"
   ]
  },
  {
   "cell_type": "code",
   "execution_count": null,
   "id": "9386529f-43d3-4d4c-9a4e-b240c61735d8",
   "metadata": {},
   "outputs": [],
   "source": [
    "apikey = 'E1D0YPIGPWKKWS4AAI6ROZHZ1PDJFH9R'"
   ]
  },
  {
   "cell_type": "markdown",
   "id": "bbaae0f3-b6c8-43d8-a648-447a78e3fb46",
   "metadata": {},
   "source": [
    "# with CPU"
   ]
  },
  {
   "cell_type": "code",
   "execution_count": null,
   "id": "5fc82255-9e1b-4422-9a83-52295c6639dd",
   "metadata": {},
   "outputs": [],
   "source": [
    "cd /src\n",
    "FLOCK_API_KEY=\"E1D0YPIGPWKKWS4AAI6ROZHZ1PDJFH9R\" python validate.py validate \\\n",
    "--model_name_or_path Qwen/Qwen1.5-1.8B-Chat \\\n",
    "--base_model qwen1.5 \\\n",
    "--eval_file ./data/dummy_data.jsonl \\\n",
    "--context_length 128 \\\n",
    "--max_params 7000000000 \\\n",
    "--local_test \\\n",
    "--validation_args_file validation_config_cpu.json.example"
   ]
  },
  {
   "cell_type": "code",
   "execution_count": null,
   "id": "34be5db8-8524-4731-a3b9-5e31ab43f6e0",
   "metadata": {},
   "outputs": [],
   "source": [
    "FLOCK_API_KEY=\"E1D0YPIGPWKKWS4AAI6ROZHZ1PDJFH9R\" python validate.py loop \\\n",
    "--task_id <task-id> \\\n",
    "--validation_args_file validation_config.json.example"
   ]
  },
  {
   "cell_type": "code",
   "execution_count": null,
   "id": "857cd507-b113-4fa7-adf0-4e445f52c88b",
   "metadata": {},
   "outputs": [],
   "source": []
  },
  {
   "cell_type": "markdown",
   "id": "f4c17f95-ffa7-4a10-9abb-884e2d01e865",
   "metadata": {},
   "source": [
    "# with GPU"
   ]
  },
  {
   "cell_type": "code",
   "execution_count": null,
   "id": "81e7f3f5-77a8-47c5-bf3f-115085ad3ae8",
   "metadata": {},
   "outputs": [],
   "source": [
    "cd /src\n",
    "CUDA_VISIBLE_DEVICES=0 FLOCK_API_KEY=\"<your-api-key>\" python validate.py validate \\\n",
    "--model_name_or_path Qwen/Qwen1.5-1.8B-Chat \\\n",
    "--base_model qwen1.5 \\\n",
    "--eval_file ./data/dummy_data.jsonl \\\n",
    "--context_length 128 \\\n",
    "--max_params 7000000000 \\\n",
    "--local_test \\\n",
    "--validation_args_file validation_config.json.example"
   ]
  },
  {
   "cell_type": "code",
   "execution_count": null,
   "id": "c9791882-f4a5-4b7c-bcf3-c4c86a3201dc",
   "metadata": {},
   "outputs": [],
   "source": [
    "CUDA_VISIBLE_DEVICES=0  FLOCK_API_KEY=\"E1D0YPIGPWKKWS4AAI6ROZHZ1PDJFH9R\" python validate.py loop \\\n",
    "--task_id 3 \\\n",
    "--validation_args_file validation_config.json.example"
   ]
  },
  {
   "cell_type": "code",
   "execution_count": null,
   "id": "3bd8771b-efa7-4a1b-9208-06d57baa6530",
   "metadata": {},
   "outputs": [],
   "source": [
    "CUDA_VISIBLE_DEVICES=0  FLOCK_API_KEY=\"E1D0YPIGPWKKWS4AAI6ROZHZ1PDJFH9R\" python validate.py loop \\\n",
    "--task_id 4 \\\n",
    "--validation_args_file validation_config.json.example"
   ]
  },
  {
   "cell_type": "code",
   "execution_count": null,
   "id": "d383874b-8e78-48f4-b398-2f82eae1a388",
   "metadata": {},
   "outputs": [],
   "source": [
    "CUDA_VISIBLE_DEVICES=0  FLOCK_API_KEY=\"E1D0YPIGPWKKWS4AAI6ROZHZ1PDJFH9R\" python validate.py \\\n",
    "--task_id 3 \\\n",
    "--validation_args_file validation_config.json.example"
   ]
  }
 ],
 "metadata": {
  "kernelspec": {
   "display_name": "Python [conda env:py310]",
   "language": "python",
   "name": "conda-env-py310-py"
  },
  "language_info": {
   "codemirror_mode": {
    "name": "ipython",
    "version": 3
   },
   "file_extension": ".py",
   "mimetype": "text/x-python",
   "name": "python",
   "nbconvert_exporter": "python",
   "pygments_lexer": "ipython3",
   "version": "3.10.12"
  }
 },
 "nbformat": 4,
 "nbformat_minor": 5
}
