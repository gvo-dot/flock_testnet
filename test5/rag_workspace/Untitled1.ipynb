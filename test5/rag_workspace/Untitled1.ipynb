{
 "cells": [
  {
   "cell_type": "code",
   "execution_count": 6,
   "id": "852c047c-ed4f-4425-9f6f-e9666cb065cb",
   "metadata": {},
   "outputs": [],
   "source": [
    "import pickle\n",
    "with open('../qa/facaster_question_combine_20240622.pkl', 'rb') as f:\n",
    "    data = pickle.load(f)"
   ]
  },
  {
   "cell_type": "code",
   "execution_count": 7,
   "id": "2e3414af-746c-4b80-8f48-e6691d041e75",
   "metadata": {},
   "outputs": [],
   "source": [
    "with open('../qa/facaster_question_20240615.pkl', 'rb') as f:\n",
    "    data2 = pickle.load(f)"
   ]
  },
  {
   "cell_type": "code",
   "execution_count": 8,
   "id": "42c493f0-45aa-46c7-8765-2d579c09db3c",
   "metadata": {},
   "outputs": [],
   "source": [
    "import pandas as pd\n",
    "only_need = pd.concat([data, data2]).drop_duplicates(keep=False)"
   ]
  },
  {
   "cell_type": "code",
   "execution_count": 10,
   "id": "b870de02-fef7-4d50-9baf-6cf6b87bed72",
   "metadata": {},
   "outputs": [],
   "source": [
    "with open('../qa/facaster_question_left.pkl', 'wb') as f:\n",
    "    pickle.dump(only_need , f)"
   ]
  },
  {
   "cell_type": "code",
   "execution_count": 11,
   "id": "fc531908-4286-404b-a708-ab8a888d1e13",
   "metadata": {},
   "outputs": [],
   "source": [
    "with open('../qa/facaster_question_left.pkl', 'rb') as f:\n",
    "    data3 = pickle.load(f)"
   ]
  },
  {
   "cell_type": "code",
   "execution_count": 12,
   "id": "d52b7e45-f95c-4061-b33b-6e7c7901b65c",
   "metadata": {},
   "outputs": [
    {
     "data": {
      "text/html": [
       "<div>\n",
       "<style scoped>\n",
       "    .dataframe tbody tr th:only-of-type {\n",
       "        vertical-align: middle;\n",
       "    }\n",
       "\n",
       "    .dataframe tbody tr th {\n",
       "        vertical-align: top;\n",
       "    }\n",
       "\n",
       "    .dataframe thead th {\n",
       "        text-align: right;\n",
       "    }\n",
       "</style>\n",
       "<table border=\"1\" class=\"dataframe\">\n",
       "  <thead>\n",
       "    <tr style=\"text-align: right;\">\n",
       "      <th></th>\n",
       "      <th>entity</th>\n",
       "      <th>question</th>\n",
       "    </tr>\n",
       "  </thead>\n",
       "  <tbody>\n",
       "    <tr>\n",
       "      <th>642</th>\n",
       "      <td>Decentralized Social Networks</td>\n",
       "      <td>Can you explain in detail how decentralized so...</td>\n",
       "    </tr>\n",
       "    <tr>\n",
       "      <th>643</th>\n",
       "      <td>Unique Identity</td>\n",
       "      <td>How is a user's unique identity generated and ...</td>\n",
       "    </tr>\n",
       "    <tr>\n",
       "      <th>644</th>\n",
       "      <td>Author Field</td>\n",
       "      <td>What is the purpose of the author field in a m...</td>\n",
       "    </tr>\n",
       "    <tr>\n",
       "      <th>645</th>\n",
       "      <td>Decentralized IDs</td>\n",
       "      <td>How does decentralization of IDs enhance ident...</td>\n",
       "    </tr>\n",
       "    <tr>\n",
       "      <th>646</th>\n",
       "      <td>Authentication and control</td>\n",
       "      <td>How is authentication and control over the uni...</td>\n",
       "    </tr>\n",
       "    <tr>\n",
       "      <th>...</th>\n",
       "      <td>...</td>\n",
       "      <td>...</td>\n",
       "    </tr>\n",
       "    <tr>\n",
       "      <th>884</th>\n",
       "      <td>Hub Events</td>\n",
       "      <td>Can you explain what a Hub Event is and how is...</td>\n",
       "    </tr>\n",
       "    <tr>\n",
       "      <th>885</th>\n",
       "      <td>MergeMessage</td>\n",
       "      <td>Can you provide more details on how a new Farc...</td>\n",
       "    </tr>\n",
       "    <tr>\n",
       "      <th>886</th>\n",
       "      <td>PruneMessage</td>\n",
       "      <td>What criteria causes a Farcaster message to be...</td>\n",
       "    </tr>\n",
       "    <tr>\n",
       "      <th>887</th>\n",
       "      <td>IdRegistryEvent</td>\n",
       "      <td>Can you elaborate on the IdRegistryEvent and i...</td>\n",
       "    </tr>\n",
       "    <tr>\n",
       "      <th>888</th>\n",
       "      <td>HubEventType Enumeration</td>\n",
       "      <td>Could you explain what the HubEventType enumer...</td>\n",
       "    </tr>\n",
       "  </tbody>\n",
       "</table>\n",
       "<p>247 rows × 2 columns</p>\n",
       "</div>"
      ],
      "text/plain": [
       "                            entity  \\\n",
       "642  Decentralized Social Networks   \n",
       "643                Unique Identity   \n",
       "644                   Author Field   \n",
       "645              Decentralized IDs   \n",
       "646     Authentication and control   \n",
       "..                             ...   \n",
       "884                     Hub Events   \n",
       "885                   MergeMessage   \n",
       "886                   PruneMessage   \n",
       "887                IdRegistryEvent   \n",
       "888       HubEventType Enumeration   \n",
       "\n",
       "                                              question  \n",
       "642  Can you explain in detail how decentralized so...  \n",
       "643  How is a user's unique identity generated and ...  \n",
       "644  What is the purpose of the author field in a m...  \n",
       "645  How does decentralization of IDs enhance ident...  \n",
       "646  How is authentication and control over the uni...  \n",
       "..                                                 ...  \n",
       "884  Can you explain what a Hub Event is and how is...  \n",
       "885  Can you provide more details on how a new Farc...  \n",
       "886  What criteria causes a Farcaster message to be...  \n",
       "887  Can you elaborate on the IdRegistryEvent and i...  \n",
       "888  Could you explain what the HubEventType enumer...  \n",
       "\n",
       "[247 rows x 2 columns]"
      ]
     },
     "execution_count": 12,
     "metadata": {},
     "output_type": "execute_result"
    }
   ],
   "source": [
    "data3"
   ]
  }
 ],
 "metadata": {
  "kernelspec": {
   "display_name": "Python 3 (ipykernel)",
   "language": "python",
   "name": "python3"
  },
  "language_info": {
   "codemirror_mode": {
    "name": "ipython",
    "version": 3
   },
   "file_extension": ".py",
   "mimetype": "text/x-python",
   "name": "python",
   "nbconvert_exporter": "python",
   "pygments_lexer": "ipython3",
   "version": "3.10.13"
  }
 },
 "nbformat": 4,
 "nbformat_minor": 5
}
