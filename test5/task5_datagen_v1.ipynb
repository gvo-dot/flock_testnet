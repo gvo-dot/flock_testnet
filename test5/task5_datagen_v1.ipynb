{
 "cells": [
  {
   "cell_type": "code",
   "execution_count": 38,
   "id": "bbebd1a1-f8d4-4981-ad02-9be4cc22b81d",
   "metadata": {},
   "outputs": [
    {
     "name": "stdout",
     "output_type": "stream",
     "text": [
      "The autoreload extension is already loaded. To reload it, use:\n",
      "  %reload_ext autoreload\n"
     ]
    },
    {
     "data": {
      "text/html": [
       "<style>.container { width:100% !important; }</style>"
      ],
      "text/plain": [
       "<IPython.core.display.HTML object>"
      ]
     },
     "metadata": {},
     "output_type": "display_data"
    }
   ],
   "source": [
    "%load_ext autoreload\n",
    "%autoreload 2\n",
    "\n",
    "from IPython.display import display, HTML\n",
    "display(HTML(\"<style>.container { width:100% !important; }</style>\"))\n",
    "\n",
    "import requests\n",
    "import json\n",
    "\n",
    "import os\n",
    "import sys\n",
    "\n",
    "import numpy as np\n",
    "import pandas as pd\n",
    "import pickle as pkl\n",
    "sys.path.append('/sharespace/flock_testnet/')\n",
    "\n",
    "from tqdm.notebook import tqdm\n",
    "import warnings\n",
    "import random\n",
    "import ml_utils\n",
    "from shutil import copyfile, move\n",
    "warnings.filterwarnings('ignore')\n",
    "\n",
    "\n",
    "pd.set_option('display.max_columns', 500)\n",
    "pd.set_option('display.max_colwidth', 1000)\n",
    "pd.set_option('display.max_rows', 1600)\n",
    "pd.set_option('display.float_format', lambda x: '%.3f' % x)"
   ]
  },
  {
   "cell_type": "code",
   "execution_count": 24,
   "id": "dcd45750-a1a8-4f5c-a661-c074d0efffce",
   "metadata": {},
   "outputs": [],
   "source": [
    "def remove_path_part(full_path, part_to_remove):\n",
    "    return full_path.replace(part_to_remove, '')\n",
    "\n",
    "\n",
    "def get_composite_filename(relative_path):\n",
    "    return '_'.join(relative_path.split('/'))"
   ]
  },
  {
   "cell_type": "code",
   "execution_count": 16,
   "id": "63a79ec9-2ff2-4ca1-862f-fb1bd2dd96bf",
   "metadata": {},
   "outputs": [],
   "source": [
    "files = ml_utils.get_filefolder_info_df('/sharespace/repo_clones/farcaster_docs/docs/')\n",
    "files = files[files['ext']=='md'].reset_index(drop=True)"
   ]
  },
  {
   "cell_type": "code",
   "execution_count": 26,
   "id": "f33fa1ea-d53b-42f5-8454-c945b9ef4f82",
   "metadata": {},
   "outputs": [],
   "source": [
    "common_path = '/sharespace/repo_clones/farcaster_docs/docs/'\n",
    "files['relative_path'] = files['fullpath'].apply(lambda x:remove_path_part(x, common_path))\n",
    "files['composite_name'] = files['relative_path'].apply(lambda x:get_composite_filename(x))"
   ]
  },
  {
   "cell_type": "code",
   "execution_count": 35,
   "id": "ac442064-0fc4-410f-b0f3-cfa42e2a1fce",
   "metadata": {},
   "outputs": [
    {
     "data": {
      "text/html": [
       "<div>\n",
       "<style scoped>\n",
       "    .dataframe tbody tr th:only-of-type {\n",
       "        vertical-align: middle;\n",
       "    }\n",
       "\n",
       "    .dataframe tbody tr th {\n",
       "        vertical-align: top;\n",
       "    }\n",
       "\n",
       "    .dataframe thead th {\n",
       "        text-align: right;\n",
       "    }\n",
       "</style>\n",
       "<table border=\"1\" class=\"dataframe\">\n",
       "  <thead>\n",
       "    <tr style=\"text-align: right;\">\n",
       "      <th></th>\n",
       "      <th>filename</th>\n",
       "      <th>composite_name</th>\n",
       "      <th>relative_path</th>\n",
       "    </tr>\n",
       "  </thead>\n",
       "  <tbody>\n",
       "    <tr>\n",
       "      <th>103</th>\n",
       "      <td>sign-in-button.md</td>\n",
       "      <td>auth-kit_sign-in-button.md</td>\n",
       "      <td>auth-kit/sign-in-button.md</td>\n",
       "    </tr>\n",
       "    <tr>\n",
       "      <th>10</th>\n",
       "      <td>change-custody.md</td>\n",
       "      <td>developers_guides_accounts_change-custody.md</td>\n",
       "      <td>developers/guides/accounts/change-custody.md</td>\n",
       "    </tr>\n",
       "    <tr>\n",
       "      <th>74</th>\n",
       "      <td>fids.md</td>\n",
       "      <td>reference_hubble_httpapi_fids.md</td>\n",
       "      <td>reference/hubble/httpapi/fids.md</td>\n",
       "    </tr>\n",
       "    <tr>\n",
       "      <th>69</th>\n",
       "      <td>links.md</td>\n",
       "      <td>reference_hubble_httpapi_links.md</td>\n",
       "      <td>reference/hubble/httpapi/links.md</td>\n",
       "    </tr>\n",
       "    <tr>\n",
       "      <th>5</th>\n",
       "      <td>fetch-profile.md</td>\n",
       "      <td>developers_guides_querying_fetch-profile.md</td>\n",
       "      <td>developers/guides/querying/fetch-profile.md</td>\n",
       "    </tr>\n",
       "  </tbody>\n",
       "</table>\n",
       "</div>"
      ],
      "text/plain": [
       "              filename                                composite_name  \\\n",
       "103  sign-in-button.md                    auth-kit_sign-in-button.md   \n",
       "10   change-custody.md  developers_guides_accounts_change-custody.md   \n",
       "74             fids.md              reference_hubble_httpapi_fids.md   \n",
       "69            links.md             reference_hubble_httpapi_links.md   \n",
       "5     fetch-profile.md   developers_guides_querying_fetch-profile.md   \n",
       "\n",
       "                                    relative_path  \n",
       "103                    auth-kit/sign-in-button.md  \n",
       "10   developers/guides/accounts/change-custody.md  \n",
       "74               reference/hubble/httpapi/fids.md  \n",
       "69              reference/hubble/httpapi/links.md  \n",
       "5     developers/guides/querying/fetch-profile.md  "
      ]
     },
     "execution_count": 35,
     "metadata": {},
     "output_type": "execute_result"
    }
   ],
   "source": [
    "use_cols = ['filename', 'composite_name','relative_path']\n",
    "files[use_cols].sample(5)"
   ]
  },
  {
   "cell_type": "code",
   "execution_count": 40,
   "id": "1d93ede7-9f01-4212-8e4f-ff1762065bf9",
   "metadata": {},
   "outputs": [
    {
     "data": {
      "text/plain": [
       "Index(['filename', 'ext', 'size_mb', 'last_modified', 'created', 'fullpath',\n",
       "       'relative_path', 'composite_name'],\n",
       "      dtype='object')"
      ]
     },
     "execution_count": 40,
     "metadata": {},
     "output_type": "execute_result"
    }
   ],
   "source": [
    "files.columns"
   ]
  },
  {
   "cell_type": "code",
   "execution_count": 44,
   "id": "333bec7b-7e61-4b20-aca3-36530ef1b589",
   "metadata": {},
   "outputs": [
    {
     "data": {
      "application/vnd.jupyter.widget-view+json": {
       "model_id": "0cad43d675144aa4af83b34b93743033",
       "version_major": 2,
       "version_minor": 0
      },
      "text/plain": [
       "  0%|          | 0/108 [00:00<?, ?it/s]"
      ]
     },
     "metadata": {},
     "output_type": "display_data"
    }
   ],
   "source": [
    "des_path = '/sharespace/flock_testnet/feature_data/task5/farcaster_files/'\n",
    "for i, row in tqdm(files.iterrows(), total=len(files)):\n",
    "    row_comfilename = row['composite_name']\n",
    "    row_orgfile = row['fullpath']\n",
    "    des_file = os.path.join(des_path, row_comfilename)\n",
    "    copyfile(row_orgfile, des_file)\n"
   ]
  },
  {
   "cell_type": "code",
   "execution_count": 42,
   "id": "89eebc14-70b3-4bfb-9540-fd83f181a8a9",
   "metadata": {},
   "outputs": [
    {
     "data": {
      "text/plain": [
       "'auth-kit_introduction.md'"
      ]
     },
     "execution_count": 42,
     "metadata": {},
     "output_type": "execute_result"
    }
   ],
   "source": [
    "row_comfilename"
   ]
  },
  {
   "cell_type": "code",
   "execution_count": null,
   "id": "3210c588-76d2-465c-a144-2943b133f4cb",
   "metadata": {},
   "outputs": [],
   "source": []
  },
  {
   "cell_type": "code",
   "execution_count": null,
   "id": "5c76d6ea-815e-48ea-ae2e-f502cf69a85c",
   "metadata": {},
   "outputs": [],
   "source": []
  },
  {
   "cell_type": "code",
   "execution_count": 13,
   "id": "754b9fa2-5dfe-407e-b758-813799b5b37c",
   "metadata": {},
   "outputs": [
    {
     "name": "stdout",
     "output_type": "stream",
     "text": [
      "(108, 6)\n"
     ]
    },
    {
     "data": {
      "text/html": [
       "<div>\n",
       "<style scoped>\n",
       "    .dataframe tbody tr th:only-of-type {\n",
       "        vertical-align: middle;\n",
       "    }\n",
       "\n",
       "    .dataframe tbody tr th {\n",
       "        vertical-align: top;\n",
       "    }\n",
       "\n",
       "    .dataframe thead th {\n",
       "        text-align: right;\n",
       "    }\n",
       "</style>\n",
       "<table border=\"1\" class=\"dataframe\">\n",
       "  <thead>\n",
       "    <tr style=\"text-align: right;\">\n",
       "      <th></th>\n",
       "      <th>filename</th>\n",
       "      <th>ext</th>\n",
       "      <th>size_mb</th>\n",
       "      <th>last_modified</th>\n",
       "      <th>created</th>\n",
       "      <th>fullpath</th>\n",
       "    </tr>\n",
       "  </thead>\n",
       "  <tbody>\n",
       "    <tr>\n",
       "      <th>0</th>\n",
       "      <td>index.md</td>\n",
       "      <td>md</td>\n",
       "      <td>0.000</td>\n",
       "      <td>202406131654</td>\n",
       "      <td>202406131654</td>\n",
       "      <td>/sharespace/repo_clones/farcaster_docs/docs/developers/index.md</td>\n",
       "    </tr>\n",
       "    <tr>\n",
       "      <th>1</th>\n",
       "      <td>utilities.md</td>\n",
       "      <td>md</td>\n",
       "      <td>0.000</td>\n",
       "      <td>202406131654</td>\n",
       "      <td>202406131654</td>\n",
       "      <td>/sharespace/repo_clones/farcaster_docs/docs/developers/utilities.md</td>\n",
       "    </tr>\n",
       "    <tr>\n",
       "      <th>2</th>\n",
       "      <td>resources.md</td>\n",
       "      <td>md</td>\n",
       "      <td>0.000</td>\n",
       "      <td>202406131654</td>\n",
       "      <td>202406131654</td>\n",
       "      <td>/sharespace/repo_clones/farcaster_docs/docs/developers/resources.md</td>\n",
       "    </tr>\n",
       "    <tr>\n",
       "      <th>3</th>\n",
       "      <td>setting-up.md</td>\n",
       "      <td>md</td>\n",
       "      <td>0.000</td>\n",
       "      <td>202406131654</td>\n",
       "      <td>202406131654</td>\n",
       "      <td>/sharespace/repo_clones/farcaster_docs/docs/developers/guides/querying/setting-up.md</td>\n",
       "    </tr>\n",
       "    <tr>\n",
       "      <th>4</th>\n",
       "      <td>fetch-casts.md</td>\n",
       "      <td>md</td>\n",
       "      <td>0.000</td>\n",
       "      <td>202406131654</td>\n",
       "      <td>202406131654</td>\n",
       "      <td>/sharespace/repo_clones/farcaster_docs/docs/developers/guides/querying/fetch-casts.md</td>\n",
       "    </tr>\n",
       "  </tbody>\n",
       "</table>\n",
       "</div>"
      ],
      "text/plain": [
       "         filename ext  size_mb last_modified       created  \\\n",
       "0        index.md  md    0.000  202406131654  202406131654   \n",
       "1    utilities.md  md    0.000  202406131654  202406131654   \n",
       "2    resources.md  md    0.000  202406131654  202406131654   \n",
       "3   setting-up.md  md    0.000  202406131654  202406131654   \n",
       "4  fetch-casts.md  md    0.000  202406131654  202406131654   \n",
       "\n",
       "                                                                                fullpath  \n",
       "0                        /sharespace/repo_clones/farcaster_docs/docs/developers/index.md  \n",
       "1                    /sharespace/repo_clones/farcaster_docs/docs/developers/utilities.md  \n",
       "2                    /sharespace/repo_clones/farcaster_docs/docs/developers/resources.md  \n",
       "3   /sharespace/repo_clones/farcaster_docs/docs/developers/guides/querying/setting-up.md  \n",
       "4  /sharespace/repo_clones/farcaster_docs/docs/developers/guides/querying/fetch-casts.md  "
      ]
     },
     "execution_count": 13,
     "metadata": {},
     "output_type": "execute_result"
    }
   ],
   "source": [
    "print(files.shape)\n",
    "files.head(5)"
   ]
  },
  {
   "cell_type": "code",
   "execution_count": 36,
   "id": "06a6193b-74e5-4811-ba83-200316a2974e",
   "metadata": {},
   "outputs": [
    {
     "data": {
      "text/plain": [
       "developers_index.md                                              1\n",
       "reference_hubble_httpapi_reactions.md                            1\n",
       "reference_warpcast_cast-composer-intents.md                      1\n",
       "reference_warpcast_embeds.md                                     1\n",
       "reference_warpcast_api.md                                        1\n",
       "reference_frames_spec.md                                         1\n",
       "reference_fname_api.md                                           1\n",
       "reference_hubble_httpapi_fids.md                                 1\n",
       "reference_hubble_httpapi_info.md                                 1\n",
       "reference_hubble_httpapi_verification.md                         1\n",
       "reference_hubble_httpapi_message.md                              1\n",
       "reference_hubble_httpapi_storagelimits.md                        1\n",
       "reference_hubble_httpapi_links.md                                1\n",
       "reference_hubble_httpapi_httpapi.md                              1\n",
       "developers_utilities.md                                          1\n",
       "reference_hubble_httpapi_onchain.md                              1\n",
       "reference_hubble_httpapi_events.md                               1\n",
       "reference_hubble_httpapi_userdata.md                             1\n",
       "reference_hubble_httpapi_usernameproof.md                        1\n",
       "reference_hubble_httpapi_casts.md                                1\n",
       "reference_hubble_grpcapi_fids.md                                 1\n",
       "reference_hubble_grpcapi_verification.md                         1\n",
       "reference_hubble_grpcapi_grpcapi.md                              1\n",
       "reference_hubble_grpcapi_message.md                              1\n",
       "reference_hubble_grpcapi_storagelimits.md                        1\n",
       "reference_hubble_grpcapi_links.md                                1\n",
       "reference_contracts_index.md                                     1\n",
       "reference_contracts_faq.md                                       1\n",
       "reference_contracts_reference_signed-key-request-validator.md    1\n",
       "reference_contracts_reference_storage-registry.md                1\n",
       "auth-kit_hooks_use-sign-in.md                                    1\n",
       "auth-kit_hooks_use-profile.md                                    1\n",
       "auth-kit_hooks_use-sign-in-message.md                            1\n",
       "auth-kit_sign-in-button.md                                       1\n",
       "auth-kit_installation.md                                         1\n",
       "auth-kit_examples.md                                             1\n",
       "auth-kit_auth-kit-provider.md                                    1\n",
       "auth-kit_client_introduction.md                                  1\n",
       "auth-kit_client_wallet_authenticate.md                           1\n",
       "auth-kit_client_wallet_client.md                                 1\n",
       "auth-kit_client_wallet_build-sign-in-message.md                  1\n",
       "auth-kit_client_wallet_parse-sign-in-uri.md                      1\n",
       "auth-kit_client_app_create-channel.md                            1\n",
       "auth-kit_client_app_client.md                                    1\n",
       "auth-kit_client_app_status.md                                    1\n",
       "auth-kit_client_app_watch-status.md                              1\n",
       "auth-kit_client_app_verify-sign-in-message.md                    1\n",
       "reference_contracts_deployments.md                               1\n",
       "reference_contracts_reference_key-registry.md                    1\n",
       "reference_contracts_reference_bundler.md                         1\n",
       "reference_contracts_reference_id-gateway.md                      1\n",
       "reference_contracts_reference_key-gateway.md                     1\n",
       "reference_contracts_reference_id-registry.md                     1\n",
       "reference_hubble_grpcapi_reactions.md                            1\n",
       "reference_hubble_grpcapi_sync.md                                 1\n",
       "reference_hubble_grpcapi_onchain.md                              1\n",
       "hubble_troubleshooting.md                                        1\n",
       "hubble_install.md                                                1\n",
       "index.md                                                         1\n",
       "developers_guides_basics_hello-world.md                          1\n",
       "developers_guides_advanced_decode-key-metadata.md                1\n",
       "developers_guides_advanced_query-signups.md                      1\n",
       "developers_guides_frames_poll.md                                 1\n",
       "developers_guides_apps_feed.md                                   1\n",
       "developers_guides_apps_replicate.md                              1\n",
       "developers_guides_writing_messages.md                            1\n",
       "developers_guides_writing_verify-address.md                      1\n",
       "developers_guides_writing_submit-messages.md                     1\n",
       "developers_guides_writing_casts.md                               1\n",
       "developers_guides_accounts_change-recovery.md                    1\n",
       "developers_guides_accounts_create-account.md                     1\n",
       "developers_guides_accounts_change-custody.md                     1\n",
       "developers_guides_accounts_find-by-name.md                       1\n",
       "developers_guides_accounts_create-account-key.md                 1\n",
       "developers_guides_accounts_change-fname.md                       1\n",
       "developers_guides_querying_fetch-channel-casts.md                1\n",
       "developers_guides_querying_fetch-profile.md                      1\n",
       "developers_guides_querying_fetch-casts.md                        1\n",
       "developers_guides_querying_setting-up.md                         1\n",
       "developers_resources.md                                          1\n",
       "hubble_hubble.md                                                 1\n",
       "hubble_monitoring.md                                             1\n",
       "reference_hubble_grpcapi_events.md                               1\n",
       "hubble_tutorials.md                                              1\n",
       "reference_hubble_grpcapi_userdata.md                             1\n",
       "reference_hubble_grpcapi_usernameproof.md                        1\n",
       "reference_hubble_grpcapi_casts.md                                1\n",
       "reference_hubble_architecture.md                                 1\n",
       "reference_hubble_datatypes_messages.md                           1\n",
       "reference_hubble_datatypes_events.md                             1\n",
       "reference_index.md                                               1\n",
       "reference_actions_spec.md                                        1\n",
       "reference_replicator_schema.md                                   1\n",
       "learn_contributing_governance.md                                 1\n",
       "learn_contributing_fips.md                                       1\n",
       "learn_contributing_overview.md                                   1\n",
       "learn_what-is-farcaster_messages.md                              1\n",
       "learn_what-is-farcaster_accounts.md                              1\n",
       "learn_what-is-farcaster_usernames.md                             1\n",
       "learn_what-is-farcaster_frames.md                                1\n",
       "learn_what-is-farcaster_channels.md                              1\n",
       "learn_what-is-farcaster_apps.md                                  1\n",
       "learn_architecture_ens-names.md                                  1\n",
       "learn_architecture_contracts.md                                  1\n",
       "learn_architecture_overview.md                                   1\n",
       "learn_architecture_hubs.md                                       1\n",
       "hubble_networks.md                                               1\n",
       "auth-kit_introduction.md                                         1\n",
       "Name: composite_name, dtype: int64"
      ]
     },
     "execution_count": 36,
     "metadata": {},
     "output_type": "execute_result"
    }
   ],
   "source": [
    "files['composite_name'].value_counts()"
   ]
  },
  {
   "cell_type": "code",
   "execution_count": null,
   "id": "47104a3c-d781-4c89-b2ed-9e7931687813",
   "metadata": {},
   "outputs": [],
   "source": []
  }
 ],
 "metadata": {
  "kernelspec": {
   "display_name": "Python [conda env:pytorch2021] *",
   "language": "python",
   "name": "conda-env-pytorch2021-py"
  },
  "language_info": {
   "codemirror_mode": {
    "name": "ipython",
    "version": 3
   },
   "file_extension": ".py",
   "mimetype": "text/x-python",
   "name": "python",
   "nbconvert_exporter": "python",
   "pygments_lexer": "ipython3",
   "version": "3.8.6"
  }
 },
 "nbformat": 4,
 "nbformat_minor": 5
}
