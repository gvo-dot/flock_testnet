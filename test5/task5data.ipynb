{
 "cells": [
  {
   "cell_type": "code",
   "execution_count": 1,
   "id": "c80483e7-0b31-4052-8d43-e17c756683a6",
   "metadata": {},
   "outputs": [
    {
     "data": {
      "text/html": [
       "<style>.container { width:100% !important; }</style>"
      ],
      "text/plain": [
       "<IPython.core.display.HTML object>"
      ]
     },
     "metadata": {},
     "output_type": "display_data"
    }
   ],
   "source": [
    "%load_ext autoreload\n",
    "%autoreload 2\n",
    "\n",
    "from IPython.display import display, HTML\n",
    "display(HTML(\"<style>.container { width:100% !important; }</style>\"))\n",
    "\n",
    "import requests\n",
    "import json\n",
    "\n",
    "\n",
    "import numpy as np\n",
    "import pandas as pd\n",
    "import pickle as pkl\n",
    "\n",
    "\n",
    "\n",
    "# import torch\n",
    "# from transformers import (\n",
    "#     AutoModelForCausalLM,\n",
    "#     AutoTokenizer,\n",
    "#     HfArgumentParser,\n",
    "#     Trainer,\n",
    "#     TrainingArguments,\n",
    "# )\n",
    "\n",
    "import warnings\n",
    "import random\n",
    "warnings.filterwarnings('ignore')\n",
    "\n",
    "\n",
    "pd.set_option('display.max_columns', 500)\n",
    "pd.set_option('display.max_colwidth', 1000)\n",
    "pd.set_option('display.max_rows', 1600)\n",
    "pd.set_option('display.float_format', lambda x: '%.3f' % x)"
   ]
  },
  {
   "cell_type": "code",
   "execution_count": null,
   "id": "598ac35f-9aea-40ef-924c-5191512a5676",
   "metadata": {},
   "outputs": [],
   "source": [
    "def load_jsonl_data(file, output_df=True):\n",
    "    data_list = []\n",
    "    with open(file, 'r') as json_file:\n",
    "        json_list = list(json_file)\n",
    "        for json_str in json_list:\n",
    "            try:\n",
    "                data_list.append(json.loads(json_str))\n",
    "            except:\n",
    "                pass\n",
    "    if output_df:\n",
    "        df = pd.DataFrame.from_dict(data_list)\n",
    "        # print(len(data_list))\n",
    "        if len(df)>0:\n",
    "            return df\n",
    "        else:\n",
    "            return None\n",
    "    else:\n",
    "        return data_list"
   ]
  },
  {
   "cell_type": "code",
   "execution_count": null,
   "id": "1573b034-5101-4142-827c-ed6b5ecfca83",
   "metadata": {},
   "outputs": [],
   "source": [
    "zfill_num = 4\n",
    "content = []\n",
    "for i, row in data.iterrows():\n",
    "    prev_id = None\n",
    "    zfill_i = str(i).zfill(4)\n",
    "    row_convo = row['conversations']\n",
    "    item_num = 0\n",
    "    zfill_item_num = str(len(row_convo))\n",
    "    prev_user_txt = ''\n",
    "    prev_assistant_text = '' \n",
    "    latest_user_txt = ''\n",
    "    latest_assistant_text = '' \n",
    "\n",
    "    item_dict = {}\n",
    "    item_dict['user']=''\n",
    "    item_dict['assistant']=''    \n",
    "    for j in range(0, len(row_convo)):\n",
    "        item_dict['system'] = row['system']\n",
    "        conv_item = row_convo[j]\n",
    "        if conv_item['role']=='assistant':\n",
    "            prev_assistant_text = latest_assistant_text\n",
    "            latest_assistant_text = conv_item['content']\n",
    "            item_dict['assistant'] = latest_assistant_text\n",
    "            \n",
    "        if conv_item['role']=='user':\n",
    "            prev_user_text = latest_user_txt\n",
    "            latest_user_txt = conv_item['content']\n",
    "            item_dict['user'] = latest_user_txt\n",
    "                \n",
    "        \n",
    "        item_dict['convo_end'] = (j==len(row_convo)-1)\n",
    "        # item_dict['user_length'] = len(conv_item['user'])\n",
    "        # # if (item_dict['user_length'] <= 200) |  item_dict['convo_end']:\n",
    "        # if item_dict['convo_end']:\n",
    "        # print(item_dict['user'] , item_dict['assistant'])\n",
    "        user_and_assistant = (len(item_dict['assistant'])>0) & (len(item_dict['user'])>0)\n",
    "        # print(user_and_assistant)\n",
    "        add_item_cond = item_dict['convo_end'] | user_and_assistant\n",
    "        # print(item_dict['convo_end'], user_and_assistant)\n",
    "        if add_item_cond:\n",
    "            zfill_item = str(item_num).zfill(len(zfill_item_num))\n",
    "            conv_id = f'conv{zfill_i}_item{zfill_item}'        \n",
    "            item_dict['id'] = conv_id\n",
    "            item_dict['parent_id'] = prev_id        \n",
    "            item_dict['row_id'] = i\n",
    "            prev_id = conv_id\n",
    "            content.append(item_dict)\n",
    "            item_dict = {}\n",
    "            item_dict['user']=''\n",
    "            item_dict['assistant']=''\n",
    "            item_num +=1\n",
    "\n",
    "# break\n",
    "convdf = pd.DataFrame.from_dict(content)"
   ]
  },
  {
   "cell_type": "code",
   "execution_count": null,
   "id": "09fc971d-6bab-4a6d-ac61-491aea63d0d0",
   "metadata": {},
   "outputs": [],
   "source": [
    "convdf_sp100 = convdf.copy()\n",
    "convdf_sp100['system'] = sp100"
   ]
  },
  {
   "cell_type": "code",
   "execution_count": null,
   "id": "bbfb6969-b689-4a49-9d55-a2988d16b6df",
   "metadata": {},
   "outputs": [],
   "source": [
    "convdf_sp100.to_parquet('../feature_data/task2/task2_conversation_sp100.parquet')"
   ]
  },
  {
   "cell_type": "code",
   "execution_count": null,
   "id": "a79eda86-b9e5-4aa0-b4df-403f00e73d48",
   "metadata": {},
   "outputs": [],
   "source": []
  },
  {
   "cell_type": "code",
   "execution_count": null,
   "id": "0476cb19-2997-47ee-a803-4b5c9736a203",
   "metadata": {},
   "outputs": [],
   "source": [
    "# further clean up\n",
    "\n",
    "sp100v2 = sp100[sp100['assistant']!=''].reset_index(drop=True)\n",
    "sp100v2.shape\n",
    "\n"
   ]
  },
  {
   "cell_type": "markdown",
   "id": "0967d895-32f3-4e0a-8d6c-93b2dca90fcf",
   "metadata": {},
   "source": [
    "# checking data"
   ]
  },
  {
   "cell_type": "code",
   "execution_count": 2,
   "id": "f4a4f99d-fac7-4c6e-bda9-198190f4b16e",
   "metadata": {},
   "outputs": [],
   "source": [
    "data = pd.read_parquet('../feature_data/task5/task5_conversation_sp100.parquet')"
   ]
  },
  {
   "cell_type": "code",
   "execution_count": 3,
   "id": "54bb7be0-982b-43bd-9e05-c4aeb5a8c2a7",
   "metadata": {},
   "outputs": [
    {
     "data": {
      "text/html": [
       "<div>\n",
       "<style scoped>\n",
       "    .dataframe tbody tr th:only-of-type {\n",
       "        vertical-align: middle;\n",
       "    }\n",
       "\n",
       "    .dataframe tbody tr th {\n",
       "        vertical-align: top;\n",
       "    }\n",
       "\n",
       "    .dataframe thead th {\n",
       "        text-align: right;\n",
       "    }\n",
       "</style>\n",
       "<table border=\"1\" class=\"dataframe\">\n",
       "  <thead>\n",
       "    <tr style=\"text-align: right;\">\n",
       "      <th></th>\n",
       "      <th>user</th>\n",
       "      <th>assistant</th>\n",
       "      <th>id</th>\n",
       "      <th>parent_id</th>\n",
       "      <th>row_id</th>\n",
       "    </tr>\n",
       "  </thead>\n",
       "  <tbody>\n",
       "    <tr>\n",
       "      <th>621</th>\n",
       "      <td>What tools are available for Farcaster?</td>\n",
       "      <td>Farcaster offers several tools such as Hubble, a hub for reading and writing messages, and Replicator, a tool to sync a hub to a postgres database.</td>\n",
       "      <td>conv0245_item0</td>\n",
       "      <td>None</td>\n",
       "      <td>245</td>\n",
       "    </tr>\n",
       "  </tbody>\n",
       "</table>\n",
       "</div>"
      ],
      "text/plain": [
       "                                        user  \\\n",
       "621  What tools are available for Farcaster?   \n",
       "\n",
       "                                                                                                                                               assistant  \\\n",
       "621  Farcaster offers several tools such as Hubble, a hub for reading and writing messages, and Replicator, a tool to sync a hub to a postgres database.   \n",
       "\n",
       "                 id parent_id  row_id  \n",
       "621  conv0245_item0      None     245  "
      ]
     },
     "execution_count": 3,
     "metadata": {},
     "output_type": "execute_result"
    }
   ],
   "source": [
    "row_idx = np.random.choice(np.arange(data['row_id'].max()), 1)[0]\n",
    "\n",
    "use_cols = ['user', 'assistant', 'id', 'parent_id', 'row_id']\n",
    "\n",
    "data[data['row_id']==row_idx][use_cols]"
   ]
  },
  {
   "cell_type": "code",
   "execution_count": 25,
   "id": "11b9b60b-8f45-413e-a344-5044d912f5b7",
   "metadata": {},
   "outputs": [
    {
     "data": {
      "text/html": [
       "<div>\n",
       "<style scoped>\n",
       "    .dataframe tbody tr th:only-of-type {\n",
       "        vertical-align: middle;\n",
       "    }\n",
       "\n",
       "    .dataframe tbody tr th {\n",
       "        vertical-align: top;\n",
       "    }\n",
       "\n",
       "    .dataframe thead th {\n",
       "        text-align: right;\n",
       "    }\n",
       "</style>\n",
       "<table border=\"1\" class=\"dataframe\">\n",
       "  <thead>\n",
       "    <tr style=\"text-align: right;\">\n",
       "      <th></th>\n",
       "      <th>user</th>\n",
       "      <th>assistant</th>\n",
       "      <th>id</th>\n",
       "      <th>parent_id</th>\n",
       "      <th>row_id</th>\n",
       "    </tr>\n",
       "  </thead>\n",
       "  <tbody>\n",
       "    <tr>\n",
       "      <th>285</th>\n",
       "      <td>What do I need to do to set up my Farcaster profile?</td>\n",
       "      <td>To set up your Farcaster profile, you need to first create a Farcaster account by calling the IdGateway contract. After that, you'll need to get a username, rent storage, and add a key. These steps involve multiple signatures and onchain transactions.</td>\n",
       "      <td>conv0109_item0</td>\n",
       "      <td>None</td>\n",
       "      <td>109</td>\n",
       "    </tr>\n",
       "    <tr>\n",
       "      <th>310</th>\n",
       "      <td>How can I join these developer calls?</td>\n",
       "      <td>You can join the developer calls by adding the [Calendar Invite](https://calendar.google.com/calendar/u/0?cid=NjA5ZWM4Y2IwMmZiMWM2ZDYyMTkzNWM1YWNkZTRlNWExN2YxOWQ2NDU3NTA3MjQwMTk3YmJlZGFjYTQ3MjZlOEBncm91cC5jYWxlbmRhci5nb29nbGUuY29t) to your calendar.</td>\n",
       "      <td>conv0120_item3</td>\n",
       "      <td>conv0120_item2</td>\n",
       "      <td>120</td>\n",
       "    </tr>\n",
       "    <tr>\n",
       "      <th>309</th>\n",
       "      <td>Are there any developer calls I can join to discuss the protocol?</td>\n",
       "      <td>Yes, we host a bi-weekly developer call to discuss upcoming changes to the protocol. The call is open to anyone and is a great way to get involved.</td>\n",
       "      <td>conv0120_item2</td>\n",
       "      <td>conv0120_item1</td>\n",
       "      <td>120</td>\n",
       "    </tr>\n",
       "    <tr>\n",
       "      <th>567</th>\n",
       "      <td>What tools are available for developers on Farcaster?</td>\n",
       "      <td>There are several tools available for developers on Farcaster, including Hubble, a hub for reading and writing messages, and Replicator, a tool to sync a hub to a PostgreSQL database.</td>\n",
       "      <td>conv0223_item0</td>\n",
       "      <td>None</td>\n",
       "      <td>223</td>\n",
       "    </tr>\n",
       "    <tr>\n",
       "      <th>502</th>\n",
       "      <td>Where can I find recordings of past developer calls?</td>\n",
       "      <td>Recordings of previous developer calls can be watched on YouTube. The link to the recordings is available in the documentation.</td>\n",
       "      <td>conv0194_item3</td>\n",
       "      <td>conv0194_item2</td>\n",
       "      <td>194</td>\n",
       "    </tr>\n",
       "  </tbody>\n",
       "</table>\n",
       "</div>"
      ],
      "text/plain": [
       "                                                                  user  \\\n",
       "285               What do I need to do to set up my Farcaster profile?   \n",
       "310                              How can I join these developer calls?   \n",
       "309  Are there any developer calls I can join to discuss the protocol?   \n",
       "567              What tools are available for developers on Farcaster?   \n",
       "502               Where can I find recordings of past developer calls?   \n",
       "\n",
       "                                                                                                                                                                                                                                                       assistant  \\\n",
       "285  To set up your Farcaster profile, you need to first create a Farcaster account by calling the IdGateway contract. After that, you'll need to get a username, rent storage, and add a key. These steps involve multiple signatures and onchain transactions.   \n",
       "310    You can join the developer calls by adding the [Calendar Invite](https://calendar.google.com/calendar/u/0?cid=NjA5ZWM4Y2IwMmZiMWM2ZDYyMTkzNWM1YWNkZTRlNWExN2YxOWQ2NDU3NTA3MjQwMTk3YmJlZGFjYTQ3MjZlOEBncm91cC5jYWxlbmRhci5nb29nbGUuY29t) to your calendar.   \n",
       "309                                                                                                          Yes, we host a bi-weekly developer call to discuss upcoming changes to the protocol. The call is open to anyone and is a great way to get involved.   \n",
       "567                                                                      There are several tools available for developers on Farcaster, including Hubble, a hub for reading and writing messages, and Replicator, a tool to sync a hub to a PostgreSQL database.   \n",
       "502                                                                                                                              Recordings of previous developer calls can be watched on YouTube. The link to the recordings is available in the documentation.   \n",
       "\n",
       "                 id       parent_id  row_id  \n",
       "285  conv0109_item0            None     109  \n",
       "310  conv0120_item3  conv0120_item2     120  \n",
       "309  conv0120_item2  conv0120_item1     120  \n",
       "567  conv0223_item0            None     223  \n",
       "502  conv0194_item3  conv0194_item2     194  "
      ]
     },
     "execution_count": 25,
     "metadata": {},
     "output_type": "execute_result"
    }
   ],
   "source": [
    "data[use_cols].sample(5)"
   ]
  },
  {
   "cell_type": "code",
   "execution_count": 4,
   "id": "40184bd8-f2fa-43b2-b31c-449262919b5f",
   "metadata": {},
   "outputs": [
    {
     "data": {
      "text/plain": [
       "'You are a helpful assistant who is helping a customer with questions about Farcaster.'"
      ]
     },
     "execution_count": 4,
     "metadata": {},
     "output_type": "execute_result"
    }
   ],
   "source": [
    "data['system'].values[0]"
   ]
  },
  {
   "cell_type": "markdown",
   "id": "4c98d3bc-43df-4584-9189-3c5d21478521",
   "metadata": {},
   "source": [
    "# model validation"
   ]
  },
  {
   "cell_type": "code",
   "execution_count": null,
   "id": "5f437aba-e895-4ab1-9f9c-0570fc20f0af",
   "metadata": {},
   "outputs": [],
   "source": [
    "# cd /src\n",
    "\n",
    "model_path = 'yifanxie/literate-toucanet1-1-1'\n",
    "apikey = 'E1D0YPIGPWKKWS4AAI6ROZHZ1PDJFH9R'\n",
    "eval_file = '../llm-loss-validator/src/data/dummy_data.jsonl'\n",
    "valarg_file = '../llm-loss-validator/src/validation_config_cpu.json.example'\n",
    "\n",
    "!CUDA_VISIBILE_DEVICES=0 FLOCK_API_KEY={apikey} python ../llm-loss-validator/src/validate.py validate \\\n",
    "--model_name_or_path {model_path} \\\n",
    "--base_model gemma \\\n",
    "--eval_file {eval_file} \\\n",
    "--context_length 128 \\\n",
    "--max_params 4000000000 \\\n",
    "--local_test \\\n",
    "--validation_args_file {valarg_file}"
   ]
  },
  {
   "cell_type": "code",
   "execution_count": null,
   "id": "060f3073-0200-4761-99c4-2ebcb9298bc8",
   "metadata": {},
   "outputs": [],
   "source": []
  },
  {
   "cell_type": "code",
   "execution_count": null,
   "id": "dc3b0617-a7b4-454b-b390-da60bf18633a",
   "metadata": {},
   "outputs": [],
   "source": []
  },
  {
   "cell_type": "code",
   "execution_count": null,
   "id": "5f497bdd-3e76-4627-a623-8ac05de50758",
   "metadata": {},
   "outputs": [],
   "source": []
  },
  {
   "cell_type": "markdown",
   "id": "227d978c-b43f-4244-8a69-3b1b273f3fc0",
   "metadata": {},
   "source": [
    "# model submission"
   ]
  },
  {
   "cell_type": "code",
   "execution_count": 4,
   "id": "b35af03f-325b-4838-8c59-7cc30b96cc12",
   "metadata": {},
   "outputs": [],
   "source": [
    "apikey = 'E1D0YPIGPWKKWS4AAI6ROZHZ1PDJFH9R'"
   ]
  },
  {
   "cell_type": "code",
   "execution_count": 6,
   "id": "ffa2cfb1-9dac-44f8-bdb3-7ec9f67cb232",
   "metadata": {},
   "outputs": [
    {
     "name": "stdout",
     "output_type": "stream",
     "text": [
      "{'detail': [{'type': 'enum', 'loc': ['base_model'], 'msg': \"Input should be 'llama2', 'llama3', 'qwen1.5', 'yi', 'mistral', 'mixtral', 'gemma' or 'zephyr'\", 'input': 'phi', 'ctx': {'expected': \"'llama2', 'llama3', 'qwen1.5', 'yi', 'mistral', 'mixtral', 'gemma' or 'zephyr'\"}, 'url': 'https://errors.pydantic.dev/2.7/v/enum'}]}\n"
     ]
    }
   ],
   "source": [
    "apikey = 'E1D0YPIGPWKKWS4AAI6ROZHZ1PDJFH9R'\n",
    "location = 'https://fed-ledger-prod.flock.io/api/v1/tasks/submit-result'\n",
    "repo = \"yifanxie/tacky-cassowary-2-1\"\n",
    "header = {\n",
    "        \"flock-api-key\":apikey,\n",
    "        \"'Content-Type\": \"application/json\",\n",
    "}\n",
    "data = {\n",
    "    \"task_id\":5,\n",
    "    \"data\":{\n",
    "        \"hg_repo_id\": repo, \n",
    "        \"base_model\": \"phi\"         \n",
    "    }\n",
    "}\n",
    "\n",
    "response = requests.post(location, headers=header, json=data)\n",
    "res = json.loads(response.text)\n",
    "print(res)"
   ]
  },
  {
   "cell_type": "code",
   "execution_count": null,
   "id": "2dd6e784-6233-4232-9fb2-c6a2e1e53968",
   "metadata": {},
   "outputs": [],
   "source": []
  },
  {
   "cell_type": "code",
   "execution_count": null,
   "id": "7d319f30-c4a0-444e-ab6a-4d36f6125a03",
   "metadata": {},
   "outputs": [],
   "source": []
  },
  {
   "cell_type": "code",
   "execution_count": null,
   "id": "38bca549-6c90-492f-8099-04d2ba8c823e",
   "metadata": {},
   "outputs": [],
   "source": []
  },
  {
   "cell_type": "code",
   "execution_count": null,
   "id": "2aaa2e3d-dc34-4f0e-8a70-83761781a814",
   "metadata": {},
   "outputs": [],
   "source": []
  },
  {
   "cell_type": "code",
   "execution_count": null,
   "id": "7a6f1be5-baf6-4453-af15-6dbcdfd63510",
   "metadata": {},
   "outputs": [],
   "source": []
  },
  {
   "cell_type": "code",
   "execution_count": null,
   "id": "690e6a90-8842-4457-85bb-c02249ae85dc",
   "metadata": {},
   "outputs": [],
   "source": []
  },
  {
   "cell_type": "code",
   "execution_count": null,
   "id": "62c44d27-d2b9-4f83-b778-428321996828",
   "metadata": {},
   "outputs": [],
   "source": [
    "# curl --location 'https://fed-ledger-prod.flock.io/api/v1/tasks/submit-result' --header 'flock-api-key: E1D0YPIGPWKKWS4AAI6ROZHZ1PDJFH9R' --header 'Content-Type: application/json' --data '{\n",
    "#     \"task_id\": 2, \n",
    "#     \"data\":{\n",
    "#         \"hg_repo_id\": \"yifanxie/literate-toucanet1-1-1\", \n",
    "#         \"base_model\": \"gemma\" \n",
    "#     }\n",
    "# }'"
   ]
  }
 ],
 "metadata": {
  "kernelspec": {
   "display_name": "Python [conda env:pytorch2021] *",
   "language": "python",
   "name": "conda-env-pytorch2021-py"
  },
  "language_info": {
   "codemirror_mode": {
    "name": "ipython",
    "version": 3
   },
   "file_extension": ".py",
   "mimetype": "text/x-python",
   "name": "python",
   "nbconvert_exporter": "python",
   "pygments_lexer": "ipython3",
   "version": "3.8.6"
  }
 },
 "nbformat": 4,
 "nbformat_minor": 5
}
